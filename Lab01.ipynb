{
 "cells": [
  {
   "cell_type": "markdown",
   "metadata": {},
   "source": [
    "## Варинат 2"
   ]
  },
  {
   "cell_type": "code",
   "execution_count": 243,
   "metadata": {},
   "outputs": [],
   "source": [
    "alphabet = ['А', 'Б', 'В', 'Г', 'Д', 'Е', 'Ё', 'Ж', 'З', 'И', 'Й', 'К', 'Л', 'М', 'Н', 'О',\n",
    "            'П', 'Р', 'С', 'Т', 'У', 'Ф', 'Х', 'Ц', 'Ч', 'Ш', 'Щ', 'Ъ', 'Ы', 'Ь', 'Э', 'Ю',\n",
    "            'Я']"
   ]
  },
  {
   "cell_type": "markdown",
   "metadata": {},
   "source": [
    "### Задание 1\n",
    "Зашифровать слово 'МАТЕМАТИКА' с помощью аффинного шифра используя ключ (2,14).\n",
    "***\n",
    "Аффинный шифр:\n",
    "- $E(x)=(ax+b)\\;mod\\;m$\n",
    "- $D(x)=a^{-1}(y-b)\\;mod\\;m$\n",
    "***\n",
    "affine_cipher(text, key, method)\n",
    "- text : string - текст, который будет зашифрован или расшифрован в зависимости от выбранного метода. \n",
    "- key : tuple - ключ, с помощью которого шифруется текст.\n",
    "- method : string - возможны два метода:\n",
    "    1. 'enc' - шифрует сообщение.\n",
    "    2. 'dec' - расшифровывает сообщение."
   ]
  },
  {
   "cell_type": "code",
   "execution_count": 244,
   "metadata": {
    "hide_input": false
   },
   "outputs": [],
   "source": [
    "from math import gcd\n",
    "def affine_cipher(text, key, method):\n",
    "    def invers(n, m):\n",
    "            for i in range(m):\n",
    "                if n * i % m == 1:\n",
    "                    return i\n",
    "    m = len(alphabet)\n",
    "    if gcd(key[0], m) != 1:\n",
    "            print(f'a = {key[0]} and m = {m} are not coprime integers')\n",
    "            return\n",
    "    for char in text:\n",
    "        if char not in alphabet:\n",
    "            print(f'No such letter \\'{char}\\' in alphabet.')\n",
    "            return\n",
    "    if method == 'enc':\n",
    "        result = ''.join([alphabet[ (key[0] * alphabet.index(char) + key[1]) % m ] \n",
    "                         for char in text])\n",
    "    elif method == 'dec':\n",
    "        inv_a = invers(key[0], m)\n",
    "        result = ''.join([alphabet[ inv_a * (alphabet.index(char) - key[1]) % m ]\n",
    "                         for char in text])\n",
    "    else:\n",
    "        print(f'No such method \\'{method}\\'')\n",
    "        return\n",
    "    print(f'{method}rypt: \\'{text}\\' -----> \\'{result}\\'')\n",
    "    return "
   ]
  },
  {
   "cell_type": "code",
   "execution_count": 246,
   "metadata": {},
   "outputs": [
    {
     "name": "stdout",
     "output_type": "stream",
     "text": [
      "encrypt: 'МАТЕМАТИКА' -----> 'ЖНТЧЖНТЯГН'\n"
     ]
    }
   ],
   "source": [
    "affine_cipher('МАТЕМАТИКА', (2,14), 'enc')"
   ]
  },
  {
   "cell_type": "markdown",
   "metadata": {},
   "source": [
    "### Задание 2\n",
    "Расшифровать слово 'ЁДЮЭДБВС' с помощью шифра Виженера используя ключ 'ЩДР'.\n",
    "***\n",
    "Шифр Виженера:\n",
    "- $E(x)=(x_i+\\gamma_i)\\;mod\\;m$\n",
    "- $D(x)=(y_i-\\gamma_i)\\;mod\\;m$\n",
    "\n",
    "Записываем ключевое слово циклически до тех пор, пока его длина не совпадет с длиной текста.\n",
    "***\n",
    "vigenere_cipher(text, key, method)\n",
    "- text : string - текст, который будет зашифрован или расшифрован в зависимости от выбранного метода. \n",
    "- key : string - ключ, с помощью которого шифруется текст.\n",
    "- method : string - возможны два метода:\n",
    "    1. 'enc' - шифрует сообщение.\n",
    "    2. 'dec' - расшифровывает сообщение."
   ]
  },
  {
   "cell_type": "code",
   "execution_count": 273,
   "metadata": {},
   "outputs": [],
   "source": [
    "def vigenere_cipher(text, key, method):\n",
    "    for char in text:\n",
    "        if char not in alphabet:\n",
    "            print(f'No such letter \\'{char}\\' in alphabet.')\n",
    "            return\n",
    "    for char in key:\n",
    "        if char not in alphabet:\n",
    "            print(f'No such letter \\'{char}\\' in alphabet.')\n",
    "            return\n",
    "    m = len(alphabet)\n",
    "    n = int(1 + len(text)/len(key))\n",
    "    key = (key * n)[:len(text)]\n",
    "    if method=='enc':\n",
    "        result = ''.join([alphabet[(alphabet.index(text[i]) + alphabet.index(key[i])) % m]\n",
    "                         for i in range(len(text))])\n",
    "    elif method=='dec':\n",
    "        result = ''.join([alphabet[(alphabet.index(text[i]) - alphabet.index(key[i])) % m]\n",
    "                         for i in range(len(text))])\n",
    "    else:\n",
    "        print(f'No such method \\'{method}\\'')\n",
    "        return\n",
    "    print(f'{method}rypt: \\'{text}\\' -----> \\'{result}\\'')\n",
    "    return \n",
    "    "
   ]
  },
  {
   "cell_type": "code",
   "execution_count": 274,
   "metadata": {},
   "outputs": [
    {
     "name": "stdout",
     "output_type": "stream",
     "text": [
      "decrypt: 'ЁДЮЭДБВС' -----> 'МАНДАРИН'\n"
     ]
    }
   ],
   "source": [
    "vigenere_cipher('ЁДЮЭДБВС','ЩДР','dec')"
   ]
  },
  {
   "cell_type": "markdown",
   "metadata": {},
   "source": [
    "### Бонусное задание\n",
    "Применив метод Касиски, дешифровать сообщение, полученное с помощью шифра Виженера."
   ]
  },
  {
   "cell_type": "code",
   "execution_count": 318,
   "metadata": {},
   "outputs": [],
   "source": [
    "#enc_word ='ЙССГЯИИХТЯЙЧРАШЭЗПНХБТЕЕЬЛХЯБЬЁЛНОАЛЛРАЫЛРЛТМОГФНХЗМЛМТЁПЯЯЭЛРОЕУНДРОЭЛСТРЯЁХШОФЁПЛЗВПДУИЮКТМГДАИРОГООСЙВВРЯИЩЮЯОПБВКЖЕСЛЖГТЮЛСЗУФЭЫЛСЬВЗСВРЯЬЛЕЯБСГЗРБФЦГЯЖЗСВХИМЗГЯБТРИЙВЦЮЧГЛЕЮИШЮИЁНДПАЦНЩДИРИЪОЁВЗРКСЮХВМТХЕБВНДОУЭЦФТТЭТРПЯЗМРУЬКТЕЫЪЛФОЕРКЖСРЯБХЕОЩТУУЕФЗТЕИАЛХЗЛЩИХВНРОБОЛЩЯДРОТЛРССГНТЕЕАЛЕОИШЛХХИЯПЫГРЬОЦСНРЯВЙНЯЖОГРЯИМРЕ'"
   ]
  },
  {
   "cell_type": "code",
   "execution_count": 371,
   "metadata": {},
   "outputs": [],
   "source": [
    "#ta = dict()\n",
    "#shift = 3\n",
    "#\n",
    "#for i in range(len(enc_word)):\n",
    "#    for j in range(i + 1, len(enc_word)):\n",
    "#        if enc_word[i:i+shift] == enc_word[j:j+shift]:\n",
    "#            if enc_word[i:i+shift] in ta:\n",
    "#                ta[enc_word[i:i+shift]].append(j)\n",
    "#            else:\n",
    "#                ta[enc_word[i:i+shift]] = list([i, j])"
   ]
  }
 ],
 "metadata": {
  "kernelspec": {
   "display_name": "Python 3",
   "language": "python",
   "name": "python3"
  },
  "language_info": {
   "codemirror_mode": {
    "name": "ipython",
    "version": 3
   },
   "file_extension": ".py",
   "mimetype": "text/x-python",
   "name": "python",
   "nbconvert_exporter": "python",
   "pygments_lexer": "ipython3",
   "version": "3.8.3"
  }
 },
 "nbformat": 4,
 "nbformat_minor": 4
}
