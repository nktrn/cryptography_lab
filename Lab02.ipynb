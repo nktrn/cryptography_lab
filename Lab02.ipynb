{
 "cells": [
  {
   "cell_type": "code",
   "execution_count": 1,
   "metadata": {},
   "outputs": [
    {
     "name": "stdout",
     "output_type": "stream",
     "text": [
      "X: 14\n",
      "key: 3568\n"
     ]
    }
   ],
   "source": [
    "# Порядковый номер - 2\n",
    "X = 2 * 7\n",
    "print(f'X: {X}')\n",
    "# Апарович Никита\n",
    "# r = 8, q = 6\n",
    "q, r = 6, 8\n",
    "k = 4096 - 11 * q * r\n",
    "print(f'key: {k}')\n",
    "# Ключи\n",
    "k1 = [1, 2, 3, 4, 5, 6, 7, 8]\n",
    "k2 = [6, 7, 8, 9, 10, 11, 12, 1]\n",
    "k3 = [11, 12, 1, 2, 3, 4, 5, 6]\n",
    "# S-блоки. \n",
    "s1 = [9, 6, 3, 2, 8, 11, 1, 7, 10, 4, 14, 15, 12, 0, 13, 5]\n",
    "s7 = [1, 13, 2, 9, 7, 10, 6, 0, 8, 12, 4, 5, 15, 3, 11, 14]\n",
    "# P\n",
    "p = 6"
   ]
  },
  {
   "cell_type": "code",
   "execution_count": 7,
   "metadata": {},
   "outputs": [],
   "source": [
    "def block_cipher(X, K, k, s, p):\n",
    "    def make_k(key, bits):\n",
    "        key = bin(key)[2:]\n",
    "        return ''.join([key[i - 1] for i in bits])\n",
    "    \n",
    "    def square_plus(x, k):\n",
    "        res = bin((x + int('0b'+k, base=0)) % 16)[2:]\n",
    "        if len(res) != 8:\n",
    "            res = '0'*(8-len(res)) + res\n",
    "        return res\n",
    "    \n",
    "    def separate(x):\n",
    "        return [x[:4], x[4:]]\n",
    "    \n",
    "    def sblock(x, s):\n",
    "        res = bin(s[int('0b'+x, base=0)])[2:]\n",
    "        if len(res) != 4:\n",
    "            res = '0'*(4-len(res)) + res\n",
    "        return res\n",
    "    \n",
    "    def concatenate(x):\n",
    "        return x[0] + x[1]\n",
    "    \n",
    "    def pblock(x, p):\n",
    "        return x[p:] + x[:p]\n",
    "    x = X\n",
    "    for i in range(3):\n",
    "        print('Итерация: {}'.format(i+1))\n",
    "        print('X: {}'.format(x))\n",
    "        \n",
    "        key = make_k(K, k[i])\n",
    "        print('Ключ: {}'.format(key))\n",
    "        \n",
    "        x = square_plus(x, key)\n",
    "        print('Результат сложения: {}'.format(x))\n",
    "        \n",
    "        xs = separate(x)\n",
    "        print('После разделения: {}'.format(xs))\n",
    "        \n",
    "        xs = [sblock(xs[0], s[0]), sblock(xs[1], s[1])]\n",
    "        print('Применили sblock: {}'.format(xs))\n",
    "        \n",
    "        x = concatenate(xs)\n",
    "        print('Сложили: {}'.format(x))\n",
    "        \n",
    "        x = pblock(x, p)\n",
    "        print('Циклический сдвиг: {}'.format(x))\n",
    "        \n",
    "        x = int('0b'+x, base=0)\n",
    "        print()\n",
    "        \n",
    "    return x"
   ]
  },
  {
   "cell_type": "code",
   "execution_count": 8,
   "metadata": {
    "scrolled": false
   },
   "outputs": [
    {
     "name": "stdout",
     "output_type": "stream",
     "text": [
      "Итерация: 1\n",
      "X: 14\n",
      "Ключ: 11011111\n",
      "Результат сложения: 00001101\n",
      "После разделения: ['0000', '1101']\n",
      "Применили sblock: ['1001', '0011']\n",
      "Сложили: 10010011\n",
      "Циклический сдвиг: 11100100\n",
      "\n",
      "Итерация: 2\n",
      "X: 228\n",
      "Ключ: 11100001\n",
      "Результат сложения: 00000101\n",
      "После разделения: ['0000', '0101']\n",
      "Применили sblock: ['1001', '1010']\n",
      "Сложили: 10011010\n",
      "Циклический сдвиг: 10100110\n",
      "\n",
      "Итерация: 3\n",
      "X: 166\n",
      "Ключ: 00110111\n",
      "Результат сложения: 00001101\n",
      "После разделения: ['0000', '1101']\n",
      "Применили sblock: ['1001', '0011']\n",
      "Сложили: 10010011\n",
      "Циклический сдвиг: 11100100\n",
      "\n",
      "Результат шифровки: 228\n"
     ]
    }
   ],
   "source": [
    "res = block_cipher(14, k, [k1, k2, k3], [s1, s7], p)\n",
    "print('Результат шифровки: {}'.format(res))"
   ]
  }
 ],
 "metadata": {
  "kernelspec": {
   "display_name": "Python 3",
   "language": "python",
   "name": "python3"
  },
  "language_info": {
   "codemirror_mode": {
    "name": "ipython",
    "version": 3
   },
   "file_extension": ".py",
   "mimetype": "text/x-python",
   "name": "python",
   "nbconvert_exporter": "python",
   "pygments_lexer": "ipython3",
   "version": "3.8.3"
  }
 },
 "nbformat": 4,
 "nbformat_minor": 4
}
